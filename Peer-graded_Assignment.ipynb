{
 "cells": [
  {
   "cell_type": "markdown",
   "id": "4e2f5f35-51e5-4335-b384-43039cd9caf1",
   "metadata": {},
   "source": [
    "# Name: Peer-graded_Assignment"
   ]
  },
  {
   "cell_type": "markdown",
   "id": "ea897a81-b37e-49fe-acbf-e31591399ba8",
   "metadata": {},
   "source": [
    "## Exercise 2 - Create a markdown cell with the title of the notebook.\n",
    "\n"
   ]
  },
  {
   "cell_type": "markdown",
   "id": "56628616-e977-4cb1-a104-b13566defdcc",
   "metadata": {},
   "source": [
    "# Data Science Tools and Ecosystem"
   ]
  },
  {
   "cell_type": "markdown",
   "id": "976e0d54",
   "metadata": {},
   "source": [
    "## Exercise 3 - Create a markdown cell for an introduction. (1 pt)"
   ]
  },
  {
   "cell_type": "markdown",
   "id": "820d341b-45ea-4336-9ed5-97863dbb008a",
   "metadata": {},
   "source": [
    "In this notebook, Data Science Tools and Ecosystem are summarized.\n",
    "\n",
    "Objectives:\n",
    "\n",
    "List popular languages that Data Scientists use.\n",
    "List commonly used libraries used by Data Scientists.\n",
    "Comment on Data Science tools."
   ]
  },
  {
   "cell_type": "markdown",
   "id": "865eaac0-31be-4959-8880-a11246dcc97c",
   "metadata": {},
   "source": [
    "## Exercise 4 - Create a markdown cell to list data science languages. (3 pts)"
   ]
  },
  {
   "cell_type": "markdown",
   "id": "dcc93db2-a9c2-411a-8df1-5873a2e7c0e3",
   "metadata": {},
   "source": [
    "Some of the popular languages that Data Scientists use are:\n",
    "\n",
    "1. Python.\n",
    "1. R.\n",
    "1. SQL.\n",
    "1. Java.\n",
    "1. Julia.\n",
    "1. Scala.\n",
    "1. C/C++.\n",
    "1. JavaScript."
   ]
  },
  {
   "cell_type": "markdown",
   "id": "7c639a98-d24e-4785-bbe9-28d016ba4aeb",
   "metadata": {},
   "source": [
    "## Exercise 5 - Create a markdown cell to list data science libraries. (3 pts)"
   ]
  },
  {
   "cell_type": "markdown",
   "id": "4c0107cc-f201-4fed-b106-21d48084aae1",
   "metadata": {},
   "source": [
    "Some of the commonly used libraries used by Data Scientists include:\n",
    "\n",
    "1. TensorFlow.\n",
    "1. NumPy.\n",
    "1. SciPy.\n",
    "1. Pandas.\n",
    "1. Matplotlib.\n",
    "1. Keras.\n",
    "1. SciKit-Learn.\n",
    "1. PyTorch.\n",
    "1. Scrapy.\n",
    "1. BeautifulSoup.\n",
    "1. LightGBM.\n",
    "1. ELI5.\n",
    "1. Theano.\n",
    "1. NuPIC.\n",
    "1. Ramp.\n",
    "1. Pipenv.\n",
    "1. Bob."
   ]
  },
  {
   "cell_type": "markdown",
   "id": "14fca18e-dce8-4a3c-93af-7fe7614dd1cd",
   "metadata": {},
   "source": [
    "## Exercise 6 - Create a markdown cell with a table of Data Science tools. (3 pts)"
   ]
  },
  {
   "cell_type": "markdown",
   "id": "ed2b8a73-940a-4634-af5a-bbc069d19980",
   "metadata": {},
   "source": [
    "Data Science Tools:\n",
    "\n",
    "## Data Science Tools\t\t\n",
    "1. SAS. It is one of those data science tools which are specifically designed for statistical operation\t\t\n",
    "1. Apache Spark\t\t\n",
    "1. BigML"
   ]
  },
  {
   "cell_type": "markdown",
   "id": "f49edd57-7437-49a1-81b5-fa351b29d0ef",
   "metadata": {},
   "source": [
    "### Exercise 7 - Create a markdown cell introducing arithmetic expression examples. (1 pt)"
   ]
  },
  {
   "cell_type": "markdown",
   "id": "a6dbbe0b-e549-4c4a-8cfe-030f71073237",
   "metadata": {},
   "source": [
    "### Below are a few examples of evaluating arithmetic expressions in Python"
   ]
  },
  {
   "cell_type": "code",
   "execution_count": 4,
   "id": "450652af-8a80-434a-a0b1-fb5c2ccdc7a3",
   "metadata": {
    "tags": []
   },
   "outputs": [
    {
     "data": {
      "text/plain": [
       "9"
      ]
     },
     "execution_count": 4,
     "metadata": {},
     "output_type": "execute_result"
    }
   ],
   "source": [
    "# Arithmetic operations\n",
    "code = compile(\"5 + 4\", \"<string>\", \"eval\")\n",
    "eval(code)\n",
    "# Result: 9"
   ]
  },
  {
   "cell_type": "code",
   "execution_count": 5,
   "id": "53789c8a-07ae-4256-ab11-ecac7a01f9b0",
   "metadata": {
    "tags": []
   },
   "outputs": [
    {
     "data": {
      "text/plain": [
       "24"
      ]
     },
     "execution_count": 5,
     "metadata": {},
     "output_type": "execute_result"
    }
   ],
   "source": [
    "code1 = compile(\"(5 + 7) * 2\", \"<string>\", \"eval\")\n",
    "eval(code1)\n",
    "# Result: 24"
   ]
  },
  {
   "cell_type": "code",
   "execution_count": 6,
   "id": "d930a159-fd5a-42f1-9e03-cdb70cf3cca1",
   "metadata": {
    "tags": []
   },
   "outputs": [
    {
     "data": {
      "text/plain": [
       "65449.84694978735"
      ]
     },
     "execution_count": 6,
     "metadata": {},
     "output_type": "execute_result"
    }
   ],
   "source": [
    "import math\n",
    "# Volume of a sphere\n",
    "code2 = compile(\"4 / 3 * math.pi * math.pow(25, 3)\", \"<string>\", \"eval\")\n",
    "eval(code2)\n",
    "# Result: 65449.84694978735"
   ]
  },
  {
   "cell_type": "markdown",
   "id": "d06ed7ad-ecd6-4eb5-82f0-dbe7b712a27a",
   "metadata": {},
   "source": [
    "## Exercise 8 - Create a code cell to multiply and add numbers.(2 pts)\n",
    "\n",
    "This a simple arithmetic expression to mutiply then add integers"
   ]
  },
  {
   "cell_type": "code",
   "execution_count": 7,
   "id": "5aaeb332-12f6-4389-b6b5-4323aa4e0622",
   "metadata": {
    "tags": []
   },
   "outputs": [
    {
     "data": {
      "text/plain": [
       "17"
      ]
     },
     "execution_count": 7,
     "metadata": {},
     "output_type": "execute_result"
    }
   ],
   "source": [
    "(3*4)+5\n",
    "# Result: 17"
   ]
  },
  {
   "cell_type": "markdown",
   "id": "b74b9073-fb09-4cf0-a4af-976e1624e678",
   "metadata": {},
   "source": [
    "## Exercise 9 - Create a code cell to convert minutes to hours. (2 pts)\n",
    "\n",
    "This will convert 200 minutes to hours by diving by 60"
   ]
  },
  {
   "cell_type": "code",
   "execution_count": 8,
   "id": "05e7d024-868a-4797-9a48-983875448771",
   "metadata": {
    "tags": []
   },
   "outputs": [
    {
     "name": "stdout",
     "output_type": "stream",
     "text": [
      "0 days, 3.3333333333333335 hours, 0 mins. \n"
     ]
    }
   ],
   "source": [
    "days = 0\n",
    "hours = 0\n",
    "mins = 0\n",
    "\n",
    "time = 200\n",
    "#days = time / 1440\n",
    "leftover_minutes = time % 1440\n",
    "hours = leftover_minutes / 60\n",
    "#mins = time - (days*1440) - (hours*60)\n",
    "print(str(days) + \" days, \" + str(hours) + \" hours, \" + str(mins) +  \" mins. \")\n",
    "\n",
    "# Result: 3.3333333333333335 hours"
   ]
  },
  {
   "cell_type": "markdown",
   "id": "3a5acebe-8686-43ce-88dd-184ebb547b6a",
   "metadata": {},
   "source": [
    "## Exercise 10 -Insert a markdown cell to list Objectives.\n",
    "\n",
    "Below the introduction cell created in Exercise 3, insert a new markdown cell to list the objectives that this notebook covered (i.e. some of the key takeaways from the course). In this new cell start with an introductory line titled: Objectives: in bold font. Then using an unordered list (bullets) indicate 3 to 5 items covered in this notebook, such as List popular languages for Data Science."
   ]
  },
  {
   "cell_type": "markdown",
   "id": "94e8ed99-79b6-4015-a3dc-f28839514439",
   "metadata": {},
   "source": [
    "## Exercise 11 - Create a markdown cell to indicate the Author’s name.\n",
    "\n",
    "## Author:\n",
    "Lewis Paul Wachiuri"
   ]
  },
  {
   "cell_type": "code",
   "execution_count": null,
   "id": "e4515997-a784-48f7-87a0-ffbe4658742a",
   "metadata": {},
   "outputs": [],
   "source": []
  }
 ],
 "metadata": {
  "kernelspec": {
   "display_name": "Python 3 (ipykernel)",
   "language": "python",
   "name": "python3"
  },
  "language_info": {
   "codemirror_mode": {
    "name": "ipython",
    "version": 3
   },
   "file_extension": ".py",
   "mimetype": "text/x-python",
   "name": "python",
   "nbconvert_exporter": "python",
   "pygments_lexer": "ipython3",
   "version": "3.11.5"
  }
 },
 "nbformat": 4,
 "nbformat_minor": 5
}
